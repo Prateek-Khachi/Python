{
 "cells": [
  {
   "cell_type": "code",
   "execution_count": 7,
   "id": "7d30e27e",
   "metadata": {},
   "outputs": [
    {
     "name": "stdout",
     "output_type": "stream",
     "text": [
      "1.26.4\n"
     ]
    }
   ],
   "source": [
    "import numpy as np\n",
    "import matplotlib.pyplot as plt\n",
    "\n",
    "print(np.__version__)\n",
    "\n"
   ]
  },
  {
   "cell_type": "code",
   "execution_count": null,
   "id": "b8d8e5e7",
   "metadata": {},
   "outputs": [
    {
     "name": "stdout",
     "output_type": "stream",
     "text": [
      "(array([0, 0, 1, 1, 1, 1], dtype=int64), array([3, 4, 0, 1, 2, 3], dtype=int64))\n"
     ]
    }
   ],
   "source": [
    "import numpy as np\n",
    "\n",
    "arr = np.array([[1,2,3,4,5], [6,7,8,9,0]])\n",
    "index = np.where(arr>3)\n",
    "print(index[])"
   ]
  },
  {
   "cell_type": "code",
   "execution_count": 40,
   "id": "afd1db01",
   "metadata": {},
   "outputs": [
    {
     "name": "stdout",
     "output_type": "stream",
     "text": [
      "31\n",
      "59\n"
     ]
    }
   ],
   "source": [
    "import numpy as np\n",
    "\n",
    "a = np.random.default_rng()\n",
    "\n",
    "print(a.integers(1,191))\n",
    "\n",
    "\n",
    "print(a.integers (1,190))"
   ]
  },
  {
   "cell_type": "code",
   "execution_count": 11,
   "id": "0cc00400",
   "metadata": {},
   "outputs": [
    {
     "name": "stdout",
     "output_type": "stream",
     "text": [
      "   a  b  c\n",
      "0  1  2  3\n",
      "1  3  2  3\n",
      "2  4  2  3\n",
      "3  5  2  3\n"
     ]
    }
   ],
   "source": [
    "import pandas as pd\n",
    "datas = {'a':[1,3,4,5], 'b':2, 'c':3}\n",
    "sc = pd.DataFrame(datas)\n",
    "print(sc)"
   ]
  },
  {
   "cell_type": "code",
   "execution_count": 21,
   "id": "a8c282ea",
   "metadata": {},
   "outputs": [
    {
     "name": "stdout",
     "output_type": "stream",
     "text": [
      "        Type1     Type2\n",
      "0       Grass    Poison\n",
      "1       Grass    Poison\n",
      "2       Grass    Poison\n",
      "3        Fire       NaN\n",
      "4        Fire       NaN\n",
      "5        Fire    Flying\n",
      "6       Water       NaN\n",
      "7       Water       NaN\n",
      "8       Water       NaN\n",
      "9         Bug       NaN\n",
      "10        Bug       NaN\n",
      "11        Bug    Flying\n",
      "12        Bug    Poison\n",
      "13        Bug    Poison\n",
      "14        Bug    Poison\n",
      "15     Normal    Flying\n",
      "16     Normal    Flying\n",
      "17     Normal    Flying\n",
      "18     Normal       NaN\n",
      "19     Normal       NaN\n",
      "20     Normal    Flying\n",
      "21     Normal    Flying\n",
      "22     Poison       NaN\n",
      "23     Poison       NaN\n",
      "24   Electric       NaN\n",
      "25   Electric       NaN\n",
      "26     Ground       NaN\n",
      "27     Ground       NaN\n",
      "28     Poison       NaN\n",
      "29     Poison       NaN\n",
      "30     Poison    Ground\n",
      "31     Poison       NaN\n",
      "32     Poison       NaN\n",
      "33     Poison    Ground\n",
      "34      Fairy       NaN\n",
      "35      Fairy       NaN\n",
      "36       Fire       NaN\n",
      "37       Fire       NaN\n",
      "38     Normal     Fairy\n",
      "39     Normal     Fairy\n",
      "40     Poison    Flying\n",
      "41     Poison    Flying\n",
      "42      Grass    Poison\n",
      "43      Grass    Poison\n",
      "44      Grass    Poison\n",
      "45        Bug     Grass\n",
      "46        Bug     Grass\n",
      "47        Bug    Poison\n",
      "48        Bug    Poison\n",
      "49     Ground       NaN\n",
      "50     Ground       NaN\n",
      "51     Normal       NaN\n",
      "52     Normal       NaN\n",
      "53      Water       NaN\n",
      "54      Water       NaN\n",
      "55   Fighting       NaN\n",
      "56   Fighting       NaN\n",
      "57       Fire       NaN\n",
      "58       Fire       NaN\n",
      "59      Water       NaN\n",
      "60      Water       NaN\n",
      "61      Water  Fighting\n",
      "62    Psychic       NaN\n",
      "63    Psychic       NaN\n",
      "64    Psychic       NaN\n",
      "65   Fighting       NaN\n",
      "66   Fighting       NaN\n",
      "67   Fighting       NaN\n",
      "68      Grass    Poison\n",
      "69      Grass    Poison\n",
      "70      Grass    Poison\n",
      "71      Water    Poison\n",
      "72      Water    Poison\n",
      "73       Rock    Ground\n",
      "74       Rock    Ground\n",
      "75       Rock    Ground\n",
      "76       Fire       NaN\n",
      "77       Fire       NaN\n",
      "78      Water   Psychic\n",
      "79      Water   Psychic\n",
      "80   Electric     Steel\n",
      "81   Electric     Steel\n",
      "82     Normal    Flying\n",
      "83     Normal    Flying\n",
      "84     Normal    Flying\n",
      "85      Water       NaN\n",
      "86      Water       Ice\n",
      "87     Poison       NaN\n",
      "88     Poison       NaN\n",
      "89      Water       NaN\n",
      "90      Water       Ice\n",
      "91      Ghost    Poison\n",
      "92      Ghost    Poison\n",
      "93      Ghost    Poison\n",
      "94       Rock    Ground\n",
      "95    Psychic       NaN\n",
      "96    Psychic       NaN\n",
      "97      Water       NaN\n",
      "98      Water       NaN\n",
      "99   Electric       NaN\n",
      "100  Electric       NaN\n",
      "101     Grass   Psychic\n",
      "102     Grass   Psychic\n",
      "103    Ground       NaN\n",
      "104    Ground       NaN\n",
      "105  Fighting       NaN\n",
      "106  Fighting       NaN\n",
      "107    Normal       NaN\n",
      "108    Poison       NaN\n",
      "109    Poison       NaN\n",
      "110    Ground      Rock\n",
      "111    Ground      Rock\n",
      "112    Normal       NaN\n",
      "113     Grass       NaN\n",
      "114    Normal       NaN\n",
      "115     Water       NaN\n",
      "116     Water       NaN\n",
      "117     Water       NaN\n",
      "118     Water       NaN\n",
      "119     Water       NaN\n",
      "120     Water   Psychic\n",
      "121   Psychic     Fairy\n",
      "122       Bug    Flying\n",
      "123       Ice   Psychic\n",
      "124  Electric       NaN\n",
      "125      Fire       NaN\n",
      "126       Bug       NaN\n",
      "127    Normal       NaN\n",
      "128     Water       NaN\n",
      "129     Water    Flying\n",
      "130     Water       Ice\n",
      "131    Normal       NaN\n",
      "132    Normal       NaN\n",
      "133     Water       NaN\n",
      "134  Electric       NaN\n",
      "135      Fire       NaN\n",
      "136    Normal       NaN\n",
      "137      Rock     Water\n",
      "138      Rock     Water\n",
      "139      Rock     Water\n",
      "140      Rock     Water\n",
      "141      Rock    Flying\n",
      "142    Normal       NaN\n",
      "143       Ice    Flying\n",
      "144  Electric    Flying\n",
      "145      Fire    Flying\n",
      "146    Dragon       NaN\n",
      "147    Dragon       NaN\n",
      "148    Dragon    Flying\n",
      "149   Psychic       NaN\n"
     ]
    }
   ],
   "source": [
    "import pandas as pd\n",
    "data = pd.read_csv('pokemon.csv')\n",
    "print(data[[\"Type1\" , \"Type2\"]].to_string())"
   ]
  }
 ],
 "metadata": {
  "kernelspec": {
   "display_name": "Python 3",
   "language": "python",
   "name": "python3"
  },
  "language_info": {
   "codemirror_mode": {
    "name": "ipython",
    "version": 3
   },
   "file_extension": ".py",
   "mimetype": "text/x-python",
   "name": "python",
   "nbconvert_exporter": "python",
   "pygments_lexer": "ipython3",
   "version": "3.10.11"
  }
 },
 "nbformat": 4,
 "nbformat_minor": 5
}
